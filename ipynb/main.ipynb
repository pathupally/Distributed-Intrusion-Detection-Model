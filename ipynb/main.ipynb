{
 "cells": [
  {
   "cell_type": "code",
   "execution_count": 1,
   "metadata": {},
   "outputs": [],
   "source": [
    "import pandas as pd\n",
    "from sklearn.model_selection import train_test_split\n",
    "from sklearn.preprocessing import StandardScaler\n",
    "from numpy.typing import NDArray\n",
    "import os\n"
   ]
  },
  {
   "cell_type": "code",
   "execution_count": 22,
   "metadata": {},
   "outputs": [
    {
     "name": "stderr",
     "output_type": "stream",
     "text": [
      "/var/folders/rh/h94h063x2z32997l9dj4thx00000gn/T/ipykernel_72129/1156859335.py:12: DtypeWarning: Columns (0,1,5,6,7,8,9,10,11,12,13,14,15,16,17,18,19,20,21,22,23,24,25,26,27,28,29,30,31,32,33,34,35,36,37,38,39,40,41,42,44) have mixed types. Specify dtype option on import or set low_memory=False.\n",
      "  og_data = pd.read_csv('data/UNSW_NB15_training-set.csv', names=columns)\n"
     ]
    }
   ],
   "source": [
    "columns = [\n",
    "    'id', 'dur', 'proto', 'service', 'state', 'spkts', 'dpkts', 'sbytes', \n",
    "    'dbytes', 'rate', 'sttl', 'dttl', 'sload', 'dload', 'sloss', 'dloss', \n",
    "    'sinpkt', 'dinpkt', 'sjit', 'djit', 'swin', 'stcpb', 'dtcpb', 'dwin', \n",
    "    'tcprtt', 'synack', 'ackdat', 'smean', 'dmean', 'trans_depth', \n",
    "    'response_body_len', 'ct_srv_src', 'ct_state_ttl', 'ct_dst_ltm', \n",
    "    'ct_src_dport_ltm', 'ct_dst_sport_ltm', 'ct_dst_src_ltm', 'is_ftp_login', \n",
    "    'ct_ftp_cmd', 'ct_flw_http_mthd', 'ct_src_ltm', 'ct_srv_dst', \n",
    "    'is_sm_ips_ports', 'attack_cat', 'label'\n",
    "]\n",
    "\n",
    "og_data = pd.read_csv('data/UNSW_NB15_training-set.csv', names=columns)\n",
    "acceptable = ['1.csv', '2.csv', '3.csv', '4.csv']\n",
    "\n",
    "\n",
    "for filename in os.listdir('data'):\n",
    "    if any(filename.endswith(suffix) for suffix in acceptable):\n",
    "        file_path = os.path.join('data', filename)\n",
    "        df = pd.read_csv(file_path, header=0, names=columns, skiprows=1, low_memory=False)\n",
    "        og_data = pd.concat([og_data, df], ignore_index=True)\n",
    "        "
   ]
  },
  {
   "cell_type": "markdown",
   "metadata": {},
   "source": [
    "Preprocessing"
   ]
  },
  {
   "cell_type": "code",
   "execution_count": 23,
   "metadata": {},
   "outputs": [],
   "source": [
    "from sklearn.preprocessing import OneHotEncoder\n",
    "import numpy as np"
   ]
  },
  {
   "cell_type": "code",
   "execution_count": 27,
   "metadata": {},
   "outputs": [
    {
     "name": "stdout",
     "output_type": "stream",
     "text": [
      "object\n"
     ]
    },
    {
     "ename": "ValueError",
     "evalue": "could not convert string to float: 'label'",
     "output_type": "error",
     "traceback": [
      "\u001b[31m---------------------------------------------------------------------------\u001b[39m",
      "\u001b[31mValueError\u001b[39m                                Traceback (most recent call last)",
      "\u001b[36mCell\u001b[39m\u001b[36m \u001b[39m\u001b[32mIn[27]\u001b[39m\u001b[32m, line 6\u001b[39m\n\u001b[32m      3\u001b[39m data = data.dropna(axis=\u001b[32m0\u001b[39m, thresh=\u001b[38;5;28mint\u001b[39m(data.shape[\u001b[32m1\u001b[39m] * \u001b[32m0.80\u001b[39m))\n\u001b[32m      5\u001b[39m \u001b[38;5;28mprint\u001b[39m(data[\u001b[33m'\u001b[39m\u001b[33mlabel\u001b[39m\u001b[33m'\u001b[39m].values.dtype)\n\u001b[32m----> \u001b[39m\u001b[32m6\u001b[39m labels = \u001b[43mdata\u001b[49m\u001b[43m[\u001b[49m\u001b[33;43m'\u001b[39;49m\u001b[33;43mlabel\u001b[39;49m\u001b[33;43m'\u001b[39;49m\u001b[43m]\u001b[49m\u001b[43m.\u001b[49m\u001b[43mvalues\u001b[49m\u001b[43m.\u001b[49m\u001b[43mastype\u001b[49m\u001b[43m(\u001b[49m\u001b[43mnp\u001b[49m\u001b[43m.\u001b[49m\u001b[43mfloat32\u001b[49m\u001b[43m)\u001b[49m\n\u001b[32m      7\u001b[39m features = data.drop(columns=[\u001b[33m'\u001b[39m\u001b[33mlabel\u001b[39m\u001b[33m'\u001b[39m], axis=\u001b[32m1\u001b[39m)\n\u001b[32m      8\u001b[39m categorical_columns = [\u001b[33m'\u001b[39m\u001b[33mproto\u001b[39m\u001b[33m'\u001b[39m, \u001b[33m'\u001b[39m\u001b[33mstate\u001b[39m\u001b[33m'\u001b[39m]\n",
      "\u001b[31mValueError\u001b[39m: could not convert string to float: 'label'"
     ]
    }
   ],
   "source": [
    "\n",
    "data = og_data.drop(['attack_cat', 'service', 'id'], axis=1)\n",
    "data = data.dropna(axis=0, thresh=int(data.shape[1] * 0.80))\n",
    "\n",
    "labels = data['label'].values\n",
    "features = data.drop(columns=['label'], axis=1)\n",
    "categorical_columns = ['proto', 'state']\n",
    "cat_data = features[categorical_columns]\n",
    "print(cat_data['proto'].value_counts)\n",
    "'''''\n",
    "encoder = OneHotEncoder(sparse_output=True, drop='first')\n",
    "cat_data = encoder.fit_transform(features['state'].to_frame())\n",
    "\n",
    "num_data = features.drop(columns=categorical_columns,axis=1)\n",
    "num_data = num_data.values.astype(np.float32)\n",
    "\n",
    "from scipy import sparse\n",
    "X = sparse.hstack([num_data, cat_data]).tocsr()\n",
    "'''"
   ]
  }
 ],
 "metadata": {
  "kernelspec": {
   "display_name": "venv",
   "language": "python",
   "name": "python3"
  },
  "language_info": {
   "codemirror_mode": {
    "name": "ipython",
    "version": 3
   },
   "file_extension": ".py",
   "mimetype": "text/x-python",
   "name": "python",
   "nbconvert_exporter": "python",
   "pygments_lexer": "ipython3",
   "version": "3.13.4"
  }
 },
 "nbformat": 4,
 "nbformat_minor": 2
}
